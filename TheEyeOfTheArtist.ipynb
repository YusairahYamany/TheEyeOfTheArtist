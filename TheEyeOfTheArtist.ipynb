{
  "cells": [
    {
      "cell_type": "markdown",
      "metadata": {
        "id": "view-in-github",
        "colab_type": "text"
      },
      "source": [
        "<a href=\"https://colab.research.google.com/github/YusairahYamany/TheEyeOfTheArtist/blob/main/TheEyeOfTheArtist.ipynb\" target=\"_parent\"><img src=\"https://colab.research.google.com/assets/colab-badge.svg\" alt=\"Open In Colab\"/></a>"
      ]
    },
    {
      "cell_type": "code",
      "execution_count": null,
      "metadata": {
        "colab": {
          "base_uri": "https://localhost:8080/"
        },
        "id": "S2xe7GqzJh7U",
        "outputId": "78a9e4e5-9356-45c6-9bc0-6fa3ce3993c2"
      },
      "outputs": [
        {
          "name": "stdout",
          "output_type": "stream",
          "text": [
            "Mounted at /content/drive\n"
          ]
        }
      ],
      "source": [
        "# mount your Google Drive into Colab\n",
        "from google.colab import drive\n",
        "drive.mount('/content/drive')"
      ]
    },
    {
      "cell_type": "code",
      "execution_count": null,
      "metadata": {
        "colab": {
          "base_uri": "https://localhost:8080/"
        },
        "id": "vW5eMCCrJh91",
        "outputId": "3eab370b-a86b-4009-b2d2-34c4540d3dbd"
      },
      "outputs": [
        {
          "name": "stdout",
          "output_type": "stream",
          "text": [
            "Watercolour: 100 files\n",
            "Oil: 100 files\n"
          ]
        }
      ],
      "source": [
        "import os\n",
        "\n",
        "## Change this code to the path of your dataset in Google Drive\n",
        "dataset_directory = '/content/drive/My Drive/ArtDataset'\n",
        "dataset = os.listdir(dataset_directory)\n",
        "\n",
        "for item in dataset:\n",
        "  num_files = len(os.listdir(f\"{dataset_directory}/{item}\"))\n",
        "  print(f\"{item}: {num_files} files\")"
      ]
    },
    {
      "cell_type": "code",
      "execution_count": null,
      "metadata": {
        "id": "-JOuch3LJiEJ"
      },
      "outputs": [],
      "source": [
        "import tensorflow as tf"
      ]
    },
    {
      "cell_type": "code",
      "execution_count": null,
      "metadata": {
        "id": "Nz3tqeP-JiGT"
      },
      "outputs": [],
      "source": [
        "num_classes = len(os.listdir(dataset_directory))\n",
        "\n",
        "if num_classes == 2:\n",
        "  n = 1\n",
        "else:\n",
        "  n = num_classes\n",
        "\n",
        "prediction_layer = tf.keras.layers.Dense(n)"
      ]
    },
    {
      "cell_type": "code",
      "execution_count": null,
      "metadata": {
        "colab": {
          "base_uri": "https://localhost:8080/"
        },
        "id": "Uihbkln2mx-z",
        "outputId": "7f206c77-a9ec-44f9-edbf-c4a1b42d4f1b"
      },
      "outputs": [
        {
          "name": "stdout",
          "output_type": "stream",
          "text": [
            "Found 175 files belonging to 2 classes.\n",
            "Using 140 files for training.\n",
            "Found 175 files belonging to 2 classes.\n",
            "Using 140 files for training.\n"
          ]
        }
      ],
      "source": [
        "test_set_size = 0.2\n",
        "\n",
        "BATCH_SIZE = 32\n",
        "IMG_SIZE = (224, 224)\n",
        "\n",
        "\n",
        "train_dataset = tf.keras.utils.image_dataset_from_directory(dataset_directory,\n",
        "                                                            validation_split=test_set_size,\n",
        "                                                            subset=\"training\",\n",
        "                                                            seed=123,\n",
        "                                                            shuffle=True,\n",
        "                                                            batch_size=BATCH_SIZE,\n",
        "                                                            image_size=IMG_SIZE)\n",
        "\n",
        "test_dataset = tf.keras.utils.image_dataset_from_directory(dataset_directory,\n",
        "                                                           validation_split=test_set_size,\n",
        "                                                           subset=\"training\",\n",
        "                                                           seed=123,\n",
        "                                                           batch_size=BATCH_SIZE,\n",
        "                                                           image_size=IMG_SIZE)"
      ]
    },
    {
      "cell_type": "code",
      "execution_count": null,
      "metadata": {
        "colab": {
          "background_save": true,
          "base_uri": "https://localhost:8080/"
        },
        "id": "qfxXq8GoJiIX",
        "outputId": "30242bf8-3e12-46eb-e51c-8b93a861a82e"
      },
      "outputs": [
        {
          "name": "stdout",
          "output_type": "stream",
          "text": [
            "Downloading data from https://storage.googleapis.com/tensorflow/keras-applications/resnet/resnet50_weights_tf_dim_ordering_tf_kernels_notop.h5\n",
            "94765736/94765736 [==============================] - 1s 0us/step\n",
            "Epoch 1/100\n",
            "5/5 [==============================] - 39s 3s/step - loss: 0.9052 - accuracy: 0.5000\n",
            "Epoch 2/100\n",
            "5/5 [==============================] - 18s 3s/step - loss: 0.7596 - accuracy: 0.5714\n",
            "Epoch 3/100\n",
            "5/5 [==============================] - 19s 3s/step - loss: 0.7786 - accuracy: 0.5786\n",
            "Epoch 4/100\n",
            "5/5 [==============================] - 18s 3s/step - loss: 0.8614 - accuracy: 0.5286\n",
            "Epoch 5/100\n",
            "5/5 [==============================] - 18s 3s/step - loss: 0.8170 - accuracy: 0.5286\n",
            "Epoch 6/100\n",
            "5/5 [==============================] - 18s 3s/step - loss: 0.7102 - accuracy: 0.5857\n",
            "Epoch 7/100\n",
            "5/5 [==============================] - 19s 3s/step - loss: 0.6748 - accuracy: 0.6429\n",
            "Epoch 8/100\n",
            "5/5 [==============================] - 18s 3s/step - loss: 0.6329 - accuracy: 0.6286\n",
            "Epoch 9/100\n",
            "5/5 [==============================] - 18s 3s/step - loss: 0.7054 - accuracy: 0.5857\n",
            "Epoch 10/100\n",
            "5/5 [==============================] - 17s 3s/step - loss: 0.7359 - accuracy: 0.5500\n",
            "Epoch 11/100\n",
            "5/5 [==============================] - 18s 3s/step - loss: 0.6824 - accuracy: 0.6143\n",
            "Epoch 12/100\n",
            "5/5 [==============================] - 18s 3s/step - loss: 0.6106 - accuracy: 0.6857\n",
            "Epoch 13/100\n",
            "5/5 [==============================] - 19s 3s/step - loss: 0.6065 - accuracy: 0.7071\n",
            "Epoch 14/100\n",
            "5/5 [==============================] - 18s 3s/step - loss: 0.6145 - accuracy: 0.5714\n",
            "Epoch 15/100\n",
            "5/5 [==============================] - 19s 3s/step - loss: 0.5789 - accuracy: 0.6714\n",
            "Epoch 16/100\n",
            "5/5 [==============================] - 18s 3s/step - loss: 0.6702 - accuracy: 0.6286\n",
            "Epoch 17/100\n",
            "5/5 [==============================] - 19s 3s/step - loss: 0.5727 - accuracy: 0.7214\n",
            "Epoch 18/100\n",
            "5/5 [==============================] - 18s 3s/step - loss: 0.5757 - accuracy: 0.6714\n",
            "Epoch 19/100\n",
            "5/5 [==============================] - 19s 3s/step - loss: 0.5556 - accuracy: 0.7214\n",
            "Epoch 20/100\n",
            "5/5 [==============================] - 18s 3s/step - loss: 0.5651 - accuracy: 0.7286\n",
            "Epoch 21/100\n",
            "5/5 [==============================] - 19s 3s/step - loss: 0.5035 - accuracy: 0.7429\n",
            "Epoch 22/100\n",
            "5/5 [==============================] - 18s 3s/step - loss: 0.5558 - accuracy: 0.7071\n",
            "Epoch 23/100\n",
            "5/5 [==============================] - 19s 3s/step - loss: 0.5234 - accuracy: 0.7286\n",
            "Epoch 24/100\n",
            "5/5 [==============================] - 18s 3s/step - loss: 0.5556 - accuracy: 0.7429\n",
            "Epoch 25/100\n",
            "5/5 [==============================] - 18s 3s/step - loss: 0.4654 - accuracy: 0.7929\n",
            "Epoch 26/100\n",
            "5/5 [==============================] - 18s 3s/step - loss: 0.5015 - accuracy: 0.7714\n",
            "Epoch 27/100\n",
            "5/5 [==============================] - 19s 3s/step - loss: 0.5111 - accuracy: 0.7143\n",
            "Epoch 28/100\n",
            "5/5 [==============================] - 18s 3s/step - loss: 0.4901 - accuracy: 0.7571\n",
            "Epoch 29/100\n",
            "5/5 [==============================] - 19s 3s/step - loss: 0.5230 - accuracy: 0.7214\n",
            "Epoch 30/100\n",
            "5/5 [==============================] - 18s 3s/step - loss: 0.4832 - accuracy: 0.7286\n",
            "Epoch 31/100\n",
            "5/5 [==============================] - 18s 3s/step - loss: 0.4780 - accuracy: 0.7857\n",
            "Epoch 32/100\n",
            "5/5 [==============================] - 18s 3s/step - loss: 0.4658 - accuracy: 0.7643\n",
            "Epoch 33/100\n",
            "5/5 [==============================] - 18s 3s/step - loss: 0.4387 - accuracy: 0.8143\n",
            "Epoch 34/100\n",
            "5/5 [==============================] - 18s 3s/step - loss: 0.4022 - accuracy: 0.8214\n",
            "Epoch 35/100\n",
            "5/5 [==============================] - 18s 3s/step - loss: 0.4430 - accuracy: 0.8071\n",
            "Epoch 36/100\n",
            "5/5 [==============================] - 18s 3s/step - loss: 0.4496 - accuracy: 0.7929\n",
            "Epoch 37/100\n",
            "5/5 [==============================] - 18s 3s/step - loss: 0.4361 - accuracy: 0.8143\n",
            "Epoch 38/100\n",
            "5/5 [==============================] - 18s 3s/step - loss: 0.4074 - accuracy: 0.8286\n",
            "Epoch 39/100\n",
            "5/5 [==============================] - 18s 3s/step - loss: 0.4371 - accuracy: 0.8286\n",
            "Epoch 40/100\n",
            "5/5 [==============================] - 18s 3s/step - loss: 0.3624 - accuracy: 0.8429\n",
            "Epoch 41/100\n",
            "5/5 [==============================] - 18s 3s/step - loss: 0.4331 - accuracy: 0.7929\n",
            "Epoch 42/100\n",
            "5/5 [==============================] - 18s 3s/step - loss: 0.4515 - accuracy: 0.7857\n",
            "Epoch 43/100\n",
            "5/5 [==============================] - 18s 3s/step - loss: 0.4001 - accuracy: 0.8500\n",
            "Epoch 44/100\n",
            "5/5 [==============================] - 18s 3s/step - loss: 0.3861 - accuracy: 0.8429\n",
            "Epoch 45/100\n",
            "5/5 [==============================] - 18s 3s/step - loss: 0.3929 - accuracy: 0.8143\n",
            "Epoch 46/100\n",
            "5/5 [==============================] - 18s 3s/step - loss: 0.3813 - accuracy: 0.8357\n",
            "Epoch 47/100\n",
            "5/5 [==============================] - 18s 3s/step - loss: 0.4125 - accuracy: 0.8214\n",
            "Epoch 48/100\n",
            "5/5 [==============================] - 18s 3s/step - loss: 0.3497 - accuracy: 0.8143\n",
            "Epoch 49/100\n",
            "5/5 [==============================] - 18s 3s/step - loss: 0.3874 - accuracy: 0.8500\n",
            "Epoch 50/100\n",
            "5/5 [==============================] - 17s 3s/step - loss: 0.3626 - accuracy: 0.8500\n",
            "Epoch 51/100\n",
            "5/5 [==============================] - 18s 3s/step - loss: 0.3630 - accuracy: 0.8286\n",
            "Epoch 52/100\n",
            "5/5 [==============================] - 18s 3s/step - loss: 0.3922 - accuracy: 0.8286\n",
            "Epoch 53/100\n",
            "5/5 [==============================] - 17s 3s/step - loss: 0.3384 - accuracy: 0.8357\n",
            "Epoch 54/100\n",
            "5/5 [==============================] - 18s 3s/step - loss: 0.3813 - accuracy: 0.8429\n",
            "Epoch 55/100\n",
            "5/5 [==============================] - 18s 3s/step - loss: 0.3619 - accuracy: 0.8429\n",
            "Epoch 56/100\n",
            "5/5 [==============================] - 19s 3s/step - loss: 0.3647 - accuracy: 0.8357\n",
            "Epoch 57/100\n",
            "5/5 [==============================] - 18s 3s/step - loss: 0.3682 - accuracy: 0.8714\n",
            "Epoch 58/100\n",
            "5/5 [==============================] - 18s 3s/step - loss: 0.3202 - accuracy: 0.8643\n",
            "Epoch 59/100\n",
            "5/5 [==============================] - 17s 3s/step - loss: 0.3312 - accuracy: 0.8714\n",
            "Epoch 60/100\n",
            "5/5 [==============================] - 18s 3s/step - loss: 0.3016 - accuracy: 0.8857\n",
            "Epoch 61/100\n",
            "5/5 [==============================] - 19s 3s/step - loss: 0.3690 - accuracy: 0.8357\n",
            "Epoch 62/100\n",
            "5/5 [==============================] - 18s 3s/step - loss: 0.3261 - accuracy: 0.8643\n",
            "Epoch 63/100\n",
            "5/5 [==============================] - 18s 3s/step - loss: 0.3490 - accuracy: 0.8571\n",
            "Epoch 64/100\n",
            "5/5 [==============================] - 18s 3s/step - loss: 0.2994 - accuracy: 0.9000\n",
            "Epoch 65/100\n",
            "5/5 [==============================] - 18s 3s/step - loss: 0.3321 - accuracy: 0.8643\n",
            "Epoch 66/100\n",
            "5/5 [==============================] - 18s 3s/step - loss: 0.3517 - accuracy: 0.8429\n",
            "Epoch 67/100\n",
            "5/5 [==============================] - 18s 3s/step - loss: 0.3065 - accuracy: 0.8929\n",
            "Epoch 68/100\n",
            "5/5 [==============================] - 19s 3s/step - loss: 0.2927 - accuracy: 0.9000\n",
            "Epoch 69/100\n",
            "5/5 [==============================] - 18s 3s/step - loss: 0.2881 - accuracy: 0.9000\n",
            "Epoch 70/100\n",
            "5/5 [==============================] - 18s 3s/step - loss: 0.3093 - accuracy: 0.9071\n",
            "Epoch 71/100\n",
            "5/5 [==============================] - 18s 3s/step - loss: 0.3021 - accuracy: 0.9071\n",
            "Epoch 72/100\n",
            "5/5 [==============================] - 18s 3s/step - loss: 0.3057 - accuracy: 0.8429\n",
            "Epoch 73/100\n",
            "5/5 [==============================] - 18s 3s/step - loss: 0.3099 - accuracy: 0.8643\n",
            "Epoch 74/100\n",
            "5/5 [==============================] - 18s 3s/step - loss: 0.3625 - accuracy: 0.8571\n",
            "Epoch 75/100\n",
            "5/5 [==============================] - 18s 3s/step - loss: 0.2981 - accuracy: 0.8929\n",
            "Epoch 76/100\n",
            "5/5 [==============================] - 18s 3s/step - loss: 0.3174 - accuracy: 0.8786\n",
            "Epoch 77/100\n",
            "5/5 [==============================] - 18s 3s/step - loss: 0.3243 - accuracy: 0.8643\n",
            "Epoch 78/100\n",
            "5/5 [==============================] - 18s 3s/step - loss: 0.3117 - accuracy: 0.8929\n",
            "Epoch 79/100\n",
            "5/5 [==============================] - 18s 3s/step - loss: 0.2944 - accuracy: 0.8786\n",
            "Epoch 80/100\n",
            "5/5 [==============================] - 18s 3s/step - loss: 0.3223 - accuracy: 0.8929\n",
            "Epoch 81/100\n",
            "5/5 [==============================] - 19s 3s/step - loss: 0.2797 - accuracy: 0.9071\n",
            "Epoch 82/100\n",
            "5/5 [==============================] - 18s 3s/step - loss: 0.2654 - accuracy: 0.8929\n",
            "Epoch 83/100\n",
            "5/5 [==============================] - 18s 3s/step - loss: 0.3169 - accuracy: 0.8571\n",
            "Epoch 84/100\n",
            "5/5 [==============================] - 18s 3s/step - loss: 0.3000 - accuracy: 0.8857\n",
            "Epoch 85/100\n",
            "5/5 [==============================] - 19s 3s/step - loss: 0.3097 - accuracy: 0.9143\n",
            "Epoch 86/100\n",
            "5/5 [==============================] - 18s 3s/step - loss: 0.2626 - accuracy: 0.8786\n",
            "Epoch 87/100\n",
            "5/5 [==============================] - 18s 3s/step - loss: 0.2880 - accuracy: 0.8929\n",
            "Epoch 88/100\n",
            "5/5 [==============================] - 18s 3s/step - loss: 0.2804 - accuracy: 0.9071\n",
            "Epoch 89/100\n",
            "5/5 [==============================] - 18s 3s/step - loss: 0.2774 - accuracy: 0.9214\n",
            "Epoch 90/100\n",
            "5/5 [==============================] - 18s 3s/step - loss: 0.2596 - accuracy: 0.8929\n",
            "Epoch 91/100\n",
            "5/5 [==============================] - 18s 3s/step - loss: 0.2700 - accuracy: 0.9143\n",
            "Epoch 92/100\n",
            "5/5 [==============================] - 18s 3s/step - loss: 0.2993 - accuracy: 0.8500\n",
            "Epoch 93/100\n",
            "5/5 [==============================] - 18s 3s/step - loss: 0.2889 - accuracy: 0.8714\n",
            "Epoch 94/100\n",
            "5/5 [==============================] - 18s 3s/step - loss: 0.2786 - accuracy: 0.9000\n",
            "Epoch 95/100\n",
            "5/5 [==============================] - 18s 3s/step - loss: 0.2519 - accuracy: 0.9286\n",
            "Epoch 96/100\n",
            "5/5 [==============================] - 19s 3s/step - loss: 0.2849 - accuracy: 0.9143\n",
            "Epoch 97/100\n",
            "5/5 [==============================] - 18s 3s/step - loss: 0.2713 - accuracy: 0.9071\n",
            "Epoch 98/100\n",
            "5/5 [==============================] - 18s 3s/step - loss: 0.2593 - accuracy: 0.9143\n",
            "Epoch 99/100\n",
            "5/5 [==============================] - 19s 3s/step - loss: 0.2538 - accuracy: 0.9071\n",
            "Epoch 100/100\n",
            "5/5 [==============================] - 18s 3s/step - loss: 0.2570 - accuracy: 0.8857\n"
          ]
        }
      ],
      "source": [
        "AUTOTUNE = tf.data.AUTOTUNE\n",
        "train_dataset = train_dataset.prefetch(buffer_size=AUTOTUNE)\n",
        "\n",
        "preprocess_input = tf.keras.applications.resnet50.preprocess_input\n",
        "\n",
        "IMG_SHAPE = IMG_SIZE + (3,)\n",
        "base_model = tf.keras.applications.ResNet50(input_shape=IMG_SHAPE,\n",
        "                                               include_top=False,\n",
        "                                               weights='imagenet')\n",
        "\n",
        "base_model.trainable = False\n",
        "\n",
        "global_average_layer = tf.keras.layers.GlobalAveragePooling2D()\n",
        "\n",
        "data_augmentation = tf.keras.Sequential([\n",
        "  tf.keras.layers.RandomFlip('horizontal'),\n",
        "  tf.keras.layers.RandomRotation(0.2),\n",
        "])\n",
        "\n",
        "inputs = tf.keras.Input(shape=(224, 224, 3))\n",
        "x = data_augmentation(inputs)\n",
        "x = preprocess_input(x)\n",
        "x = base_model(x, training=False)\n",
        "x = global_average_layer(x)\n",
        "x = tf.keras.layers.Dropout(0.2)(x)\n",
        "outputs = prediction_layer(x)\n",
        "model = tf.keras.Model(inputs, outputs)\n",
        "\n",
        "base_learning_rate = 0.0001\n",
        "model.compile(optimizer=tf.keras.optimizers.Adam(learning_rate=base_learning_rate),\n",
        "              loss=tf.keras.losses.BinaryCrossentropy(from_logits=True),\n",
        "              metrics=[tf.keras.metrics.BinaryAccuracy(threshold=0, name='accuracy')])\n",
        "\n",
        "initial_epochs = 100\n",
        "history = model.fit(train_dataset,\n",
        "                    epochs=initial_epochs)"
      ]
    },
    {
      "cell_type": "code",
      "execution_count": null,
      "metadata": {
        "colab": {
          "background_save": true
        },
        "id": "NGp78U9foX01",
        "outputId": "ab4a6ccc-c807-4fcc-b695-a24e92b780a3"
      },
      "outputs": [
        {
          "data": {
            "text/plain": [
              "array([1, 1, 1, 1, 0, 1, 0, 0, 0, 1, 0, 1, 0, 1, 0, 1, 0, 0, 1, 0, 1, 0,\n",
              "       0, 0, 0, 1, 1, 0, 0, 1, 0, 1, 0, 1, 1, 0, 0, 1, 0, 1, 0, 1, 1, 1,\n",
              "       0, 1, 0, 0, 0, 1, 0, 0, 0, 0, 1, 0, 0, 1, 0, 1, 1, 1, 1, 1, 1, 1,\n",
              "       1, 0, 1, 0, 0, 0, 1, 0, 1, 1, 0, 1, 0, 1, 0, 1, 0, 0, 0, 1, 1, 0,\n",
              "       0, 0, 1, 0, 0, 0, 1, 1, 0, 1, 0, 0, 1, 1, 0, 0, 1, 0, 0, 1, 1, 1,\n",
              "       1, 0, 0, 1, 1, 1, 1, 1, 1, 1, 0, 0, 1, 0, 1, 0, 0, 0, 0, 0, 0, 1,\n",
              "       1, 0, 1, 1, 1, 1, 0, 0], dtype=int32)"
            ]
          },
          "execution_count": 7,
          "metadata": {},
          "output_type": "execute_result"
        }
      ],
      "source": [
        "import numpy as np\n",
        "\n",
        "y_true = np.concatenate([y for x, y in test_dataset], axis=0)\n",
        "y_true"
      ]
    },
    {
      "cell_type": "code",
      "execution_count": null,
      "metadata": {
        "colab": {
          "background_save": true
        },
        "id": "tOKK61NhoqOc",
        "outputId": "e484a2e5-cafa-4831-dd07-3edb51979053"
      },
      "outputs": [
        {
          "name": "stdout",
          "output_type": "stream",
          "text": [
            "5/5 [==============================] - 18s 3s/step\n"
          ]
        },
        {
          "data": {
            "text/plain": [
              "array([1, 1, 1, 0, 1, 0, 1, 1, 1, 1, 1, 0, 0, 1, 1, 0, 0, 0, 1, 0, 1, 1,\n",
              "       1, 0, 1, 1, 0, 0, 1, 0, 0, 1, 1, 0, 0, 1, 0, 1, 1, 1, 0, 1, 0, 1,\n",
              "       1, 1, 0, 0, 1, 1, 1, 0, 1, 1, 0, 0, 1, 1, 1, 1, 1, 1, 1, 0, 0, 0,\n",
              "       0, 1, 1, 0, 1, 1, 1, 0, 0, 1, 0, 1, 0, 1, 1, 0, 1, 0, 1, 0, 0, 1,\n",
              "       0, 1, 0, 0, 1, 0, 0, 1, 0, 1, 1, 1, 1, 0, 1, 1, 1, 1, 1, 0, 0, 0,\n",
              "       0, 1, 1, 0, 0, 1, 1, 1, 1, 0, 0, 0, 0, 0, 0, 0, 0, 0, 0, 0, 1, 1,\n",
              "       0, 0, 1, 0, 0, 0, 0, 1])"
            ]
          },
          "execution_count": 8,
          "metadata": {},
          "output_type": "execute_result"
        }
      ],
      "source": [
        "predictions = model.predict(test_dataset)\n",
        "\n",
        "predictions = (predictions > 0).astype(int).squeeze()\n",
        "\n",
        "predictions"
      ]
    },
    {
      "cell_type": "code",
      "execution_count": null,
      "metadata": {
        "colab": {
          "background_save": true
        },
        "id": "tytWGUA2owBG",
        "outputId": "6aef9903-1d51-4e12-9196-b91be2b89505"
      },
      "outputs": [
        {
          "data": {
            "text/plain": [
              "0.4785714285714286"
            ]
          },
          "execution_count": 9,
          "metadata": {},
          "output_type": "execute_result"
        }
      ],
      "source": [
        "def calculate_accuracy(y_true, predictions):\n",
        "\n",
        "  accuracy = np.sum(y_true == predictions)/len(y_true)\n",
        "\n",
        "  return accuracy\n",
        "\n",
        "calculate_accuracy(y_true, predictions)"
      ]
    },
    {
      "cell_type": "code",
      "execution_count": null,
      "metadata": {
        "colab": {
          "background_save": true
        },
        "id": "Gau25B5bqJfr",
        "outputId": "7eb682fb-eb54-416c-b41f-50e4c101bb2f"
      },
      "outputs": [
        {
          "data": {
            "text/plain": [
              "0.4785714285714286"
            ]
          },
          "execution_count": 10,
          "metadata": {},
          "output_type": "execute_result"
        }
      ],
      "source": [
        "from sklearn.metrics import accuracy_score\n",
        "\n",
        "accuracy_score(y_true, predictions)"
      ]
    },
    {
      "cell_type": "code",
      "execution_count": null,
      "metadata": {
        "colab": {
          "background_save": true
        },
        "id": "mw61xQZK3oRL",
        "outputId": "1c562fb2-7df1-4128-f865-393cefe861ec"
      },
      "outputs": [
        {
          "name": "stdout",
          "output_type": "stream",
          "text": [
            "1/1 [==============================] - 1s 844ms/step\n",
            "Predicted Class: Watercolour\n",
            "Confidence: 0.5493518710136414\n"
          ]
        }
      ],
      "source": [
        "import cv2\n",
        "import numpy as np\n",
        "\n",
        "def predict_artwork(image_path, model):\n",
        "    # Load and preprocess the image\n",
        "    image = cv2.imread(image_path)\n",
        "    image = cv2.cvtColor(image, cv2.COLOR_BGR2RGB)\n",
        "    image = cv2.resize(image, (224, 224))  # Resize to match model input size\n",
        "    image = np.expand_dims(image, axis=0)  # Add batch dimension\n",
        "    image = tf.keras.applications.resnet50.preprocess_input(image)\n",
        "\n",
        "    # Predict the class probabilities\n",
        "    probabilities = model.predict(image)[0]\n",
        "\n",
        "    # Get the class with the highest probability\n",
        "    predicted_class = np.argmax(probabilities)\n",
        "\n",
        "    # Assuming you have a list of class names, replace class_names with your actual class names\n",
        "    class_names = ['Watercolour', 'Oil']  # Replace with your actual class names\n",
        "\n",
        "    predicted_class_name = class_names[predicted_class]\n",
        "    confidence = probabilities[predicted_class]\n",
        "\n",
        "    return predicted_class_name, confidence\n",
        "\n",
        "# Assuming 'model' is your trained model\n",
        "# Replace 'path_to_image' with the actual path of the artwork image\n",
        "path_to_image = '/content/w27.jpeg'\n",
        "predicted_class, confidence = predict_artwork(path_to_image, model)\n",
        "\n",
        "print(f'Predicted Class: {predicted_class}')\n",
        "print(f'Confidence: {confidence}')\n"
      ]
    }
  ],
  "metadata": {
    "colab": {
      "provenance": [],
      "include_colab_link": true
    },
    "kernelspec": {
      "display_name": "Python 3",
      "name": "python3"
    },
    "language_info": {
      "name": "python"
    }
  },
  "nbformat": 4,
  "nbformat_minor": 0
}